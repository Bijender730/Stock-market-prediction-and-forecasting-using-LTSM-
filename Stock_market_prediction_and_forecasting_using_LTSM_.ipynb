{
  "nbformat": 4,
  "nbformat_minor": 0,
  "metadata": {
    "colab": {
      "provenance": [],
      "collapsed_sections": []
    },
    "kernelspec": {
      "name": "python3",
      "display_name": "Python 3"
    },
    "language_info": {
      "name": "python"
    }
  },
  "cells": [
    {
      "cell_type": "markdown",
      "source": [
        "<h1> Stock market prediction and forecasting using LTSM </h1>"
      ],
      "metadata": {
        "id": "Sjo9HaYkZ91G"
      }
    },
    {
      "cell_type": "code",
      "source": [
        "import pandas as pd\n",
        "from zipfile import ZipFile\n",
        "import pandas_datareader as pdr"
      ],
      "metadata": {
        "id": "B-7zRowjaJZV"
      },
      "execution_count": null,
      "outputs": []
    },
    {
      "cell_type": "code",
      "source": [
        "! wget https://github.com/krishnaik06/Stock-MArket-Forecasting/blob/master/AAPL.csv"
      ],
      "metadata": {
        "colab": {
          "base_uri": "https://localhost:8080/"
        },
        "id": "BAviELrsafGU",
        "outputId": "65abf64c-ad28-42a8-aef6-d13ba01cd375"
      },
      "execution_count": null,
      "outputs": [
        {
          "output_type": "stream",
          "name": "stdout",
          "text": [
            "--2022-09-20 04:02:40--  https://github.com/krishnaik06/Stock-MArket-Forecasting/blob/master/AAPL.csv\n",
            "Resolving github.com (github.com)... 140.82.113.3\n",
            "Connecting to github.com (github.com)|140.82.113.3|:443... connected.\n",
            "HTTP request sent, awaiting response... 200 OK\n",
            "Length: unspecified [text/html]\n",
            "Saving to: ‘AAPL.csv’\n",
            "\n",
            "AAPL.csv                [ <=>                ] 941.93K  --.-KB/s    in 0.1s    \n",
            "\n",
            "2022-09-20 04:02:41 (6.43 MB/s) - ‘AAPL.csv’ saved [964536]\n",
            "\n"
          ]
        }
      ]
    },
    {
      "cell_type": "code",
      "source": [
        "df = pd.read_csv('https://raw.githubusercontent.com/krishnaik06/Stock-MArket-Forecasting/master/AAPL.csv')"
      ],
      "metadata": {
        "id": "-aGlGToMhCmz"
      },
      "execution_count": null,
      "outputs": []
    },
    {
      "cell_type": "code",
      "source": [
        "df.head()"
      ],
      "metadata": {
        "colab": {
          "base_uri": "https://localhost:8080/",
          "height": 374
        },
        "id": "41W5yw7JDUWr",
        "outputId": "618a024c-af06-4fb4-b30e-794a7637446c"
      },
      "execution_count": null,
      "outputs": [
        {
          "output_type": "execute_result",
          "data": {
            "text/plain": [
              "   Unnamed: 0 symbol                       date    close     high     low  \\\n",
              "0           0   AAPL  2015-05-27 00:00:00+00:00  132.045  132.260  130.05   \n",
              "1           1   AAPL  2015-05-28 00:00:00+00:00  131.780  131.950  131.10   \n",
              "2           2   AAPL  2015-05-29 00:00:00+00:00  130.280  131.450  129.90   \n",
              "3           3   AAPL  2015-06-01 00:00:00+00:00  130.535  131.390  130.05   \n",
              "4           4   AAPL  2015-06-02 00:00:00+00:00  129.960  130.655  129.32   \n",
              "\n",
              "     open    volume    adjClose     adjHigh      adjLow     adjOpen  \\\n",
              "0  130.34  45833246  121.682558  121.880685  119.844118  120.111360   \n",
              "1  131.86  30733309  121.438354  121.595013  120.811718  121.512076   \n",
              "2  131.23  50884452  120.056069  121.134251  119.705890  120.931516   \n",
              "3  131.20  32112797  120.291057  121.078960  119.844118  120.903870   \n",
              "4  129.86  33667627  119.761181  120.401640  119.171406  119.669029   \n",
              "\n",
              "   adjVolume  divCash  splitFactor  \n",
              "0   45833246      0.0          1.0  \n",
              "1   30733309      0.0          1.0  \n",
              "2   50884452      0.0          1.0  \n",
              "3   32112797      0.0          1.0  \n",
              "4   33667627      0.0          1.0  "
            ],
            "text/html": [
              "\n",
              "  <div id=\"df-92d69a8f-32ca-4ba7-85d9-7a6611599e43\">\n",
              "    <div class=\"colab-df-container\">\n",
              "      <div>\n",
              "<style scoped>\n",
              "    .dataframe tbody tr th:only-of-type {\n",
              "        vertical-align: middle;\n",
              "    }\n",
              "\n",
              "    .dataframe tbody tr th {\n",
              "        vertical-align: top;\n",
              "    }\n",
              "\n",
              "    .dataframe thead th {\n",
              "        text-align: right;\n",
              "    }\n",
              "</style>\n",
              "<table border=\"1\" class=\"dataframe\">\n",
              "  <thead>\n",
              "    <tr style=\"text-align: right;\">\n",
              "      <th></th>\n",
              "      <th>Unnamed: 0</th>\n",
              "      <th>symbol</th>\n",
              "      <th>date</th>\n",
              "      <th>close</th>\n",
              "      <th>high</th>\n",
              "      <th>low</th>\n",
              "      <th>open</th>\n",
              "      <th>volume</th>\n",
              "      <th>adjClose</th>\n",
              "      <th>adjHigh</th>\n",
              "      <th>adjLow</th>\n",
              "      <th>adjOpen</th>\n",
              "      <th>adjVolume</th>\n",
              "      <th>divCash</th>\n",
              "      <th>splitFactor</th>\n",
              "    </tr>\n",
              "  </thead>\n",
              "  <tbody>\n",
              "    <tr>\n",
              "      <th>0</th>\n",
              "      <td>0</td>\n",
              "      <td>AAPL</td>\n",
              "      <td>2015-05-27 00:00:00+00:00</td>\n",
              "      <td>132.045</td>\n",
              "      <td>132.260</td>\n",
              "      <td>130.05</td>\n",
              "      <td>130.34</td>\n",
              "      <td>45833246</td>\n",
              "      <td>121.682558</td>\n",
              "      <td>121.880685</td>\n",
              "      <td>119.844118</td>\n",
              "      <td>120.111360</td>\n",
              "      <td>45833246</td>\n",
              "      <td>0.0</td>\n",
              "      <td>1.0</td>\n",
              "    </tr>\n",
              "    <tr>\n",
              "      <th>1</th>\n",
              "      <td>1</td>\n",
              "      <td>AAPL</td>\n",
              "      <td>2015-05-28 00:00:00+00:00</td>\n",
              "      <td>131.780</td>\n",
              "      <td>131.950</td>\n",
              "      <td>131.10</td>\n",
              "      <td>131.86</td>\n",
              "      <td>30733309</td>\n",
              "      <td>121.438354</td>\n",
              "      <td>121.595013</td>\n",
              "      <td>120.811718</td>\n",
              "      <td>121.512076</td>\n",
              "      <td>30733309</td>\n",
              "      <td>0.0</td>\n",
              "      <td>1.0</td>\n",
              "    </tr>\n",
              "    <tr>\n",
              "      <th>2</th>\n",
              "      <td>2</td>\n",
              "      <td>AAPL</td>\n",
              "      <td>2015-05-29 00:00:00+00:00</td>\n",
              "      <td>130.280</td>\n",
              "      <td>131.450</td>\n",
              "      <td>129.90</td>\n",
              "      <td>131.23</td>\n",
              "      <td>50884452</td>\n",
              "      <td>120.056069</td>\n",
              "      <td>121.134251</td>\n",
              "      <td>119.705890</td>\n",
              "      <td>120.931516</td>\n",
              "      <td>50884452</td>\n",
              "      <td>0.0</td>\n",
              "      <td>1.0</td>\n",
              "    </tr>\n",
              "    <tr>\n",
              "      <th>3</th>\n",
              "      <td>3</td>\n",
              "      <td>AAPL</td>\n",
              "      <td>2015-06-01 00:00:00+00:00</td>\n",
              "      <td>130.535</td>\n",
              "      <td>131.390</td>\n",
              "      <td>130.05</td>\n",
              "      <td>131.20</td>\n",
              "      <td>32112797</td>\n",
              "      <td>120.291057</td>\n",
              "      <td>121.078960</td>\n",
              "      <td>119.844118</td>\n",
              "      <td>120.903870</td>\n",
              "      <td>32112797</td>\n",
              "      <td>0.0</td>\n",
              "      <td>1.0</td>\n",
              "    </tr>\n",
              "    <tr>\n",
              "      <th>4</th>\n",
              "      <td>4</td>\n",
              "      <td>AAPL</td>\n",
              "      <td>2015-06-02 00:00:00+00:00</td>\n",
              "      <td>129.960</td>\n",
              "      <td>130.655</td>\n",
              "      <td>129.32</td>\n",
              "      <td>129.86</td>\n",
              "      <td>33667627</td>\n",
              "      <td>119.761181</td>\n",
              "      <td>120.401640</td>\n",
              "      <td>119.171406</td>\n",
              "      <td>119.669029</td>\n",
              "      <td>33667627</td>\n",
              "      <td>0.0</td>\n",
              "      <td>1.0</td>\n",
              "    </tr>\n",
              "  </tbody>\n",
              "</table>\n",
              "</div>\n",
              "      <button class=\"colab-df-convert\" onclick=\"convertToInteractive('df-92d69a8f-32ca-4ba7-85d9-7a6611599e43')\"\n",
              "              title=\"Convert this dataframe to an interactive table.\"\n",
              "              style=\"display:none;\">\n",
              "        \n",
              "  <svg xmlns=\"http://www.w3.org/2000/svg\" height=\"24px\"viewBox=\"0 0 24 24\"\n",
              "       width=\"24px\">\n",
              "    <path d=\"M0 0h24v24H0V0z\" fill=\"none\"/>\n",
              "    <path d=\"M18.56 5.44l.94 2.06.94-2.06 2.06-.94-2.06-.94-.94-2.06-.94 2.06-2.06.94zm-11 1L8.5 8.5l.94-2.06 2.06-.94-2.06-.94L8.5 2.5l-.94 2.06-2.06.94zm10 10l.94 2.06.94-2.06 2.06-.94-2.06-.94-.94-2.06-.94 2.06-2.06.94z\"/><path d=\"M17.41 7.96l-1.37-1.37c-.4-.4-.92-.59-1.43-.59-.52 0-1.04.2-1.43.59L10.3 9.45l-7.72 7.72c-.78.78-.78 2.05 0 2.83L4 21.41c.39.39.9.59 1.41.59.51 0 1.02-.2 1.41-.59l7.78-7.78 2.81-2.81c.8-.78.8-2.07 0-2.86zM5.41 20L4 18.59l7.72-7.72 1.47 1.35L5.41 20z\"/>\n",
              "  </svg>\n",
              "      </button>\n",
              "      \n",
              "  <style>\n",
              "    .colab-df-container {\n",
              "      display:flex;\n",
              "      flex-wrap:wrap;\n",
              "      gap: 12px;\n",
              "    }\n",
              "\n",
              "    .colab-df-convert {\n",
              "      background-color: #E8F0FE;\n",
              "      border: none;\n",
              "      border-radius: 50%;\n",
              "      cursor: pointer;\n",
              "      display: none;\n",
              "      fill: #1967D2;\n",
              "      height: 32px;\n",
              "      padding: 0 0 0 0;\n",
              "      width: 32px;\n",
              "    }\n",
              "\n",
              "    .colab-df-convert:hover {\n",
              "      background-color: #E2EBFA;\n",
              "      box-shadow: 0px 1px 2px rgba(60, 64, 67, 0.3), 0px 1px 3px 1px rgba(60, 64, 67, 0.15);\n",
              "      fill: #174EA6;\n",
              "    }\n",
              "\n",
              "    [theme=dark] .colab-df-convert {\n",
              "      background-color: #3B4455;\n",
              "      fill: #D2E3FC;\n",
              "    }\n",
              "\n",
              "    [theme=dark] .colab-df-convert:hover {\n",
              "      background-color: #434B5C;\n",
              "      box-shadow: 0px 1px 3px 1px rgba(0, 0, 0, 0.15);\n",
              "      filter: drop-shadow(0px 1px 2px rgba(0, 0, 0, 0.3));\n",
              "      fill: #FFFFFF;\n",
              "    }\n",
              "  </style>\n",
              "\n",
              "      <script>\n",
              "        const buttonEl =\n",
              "          document.querySelector('#df-92d69a8f-32ca-4ba7-85d9-7a6611599e43 button.colab-df-convert');\n",
              "        buttonEl.style.display =\n",
              "          google.colab.kernel.accessAllowed ? 'block' : 'none';\n",
              "\n",
              "        async function convertToInteractive(key) {\n",
              "          const element = document.querySelector('#df-92d69a8f-32ca-4ba7-85d9-7a6611599e43');\n",
              "          const dataTable =\n",
              "            await google.colab.kernel.invokeFunction('convertToInteractive',\n",
              "                                                     [key], {});\n",
              "          if (!dataTable) return;\n",
              "\n",
              "          const docLinkHtml = 'Like what you see? Visit the ' +\n",
              "            '<a target=\"_blank\" href=https://colab.research.google.com/notebooks/data_table.ipynb>data table notebook</a>'\n",
              "            + ' to learn more about interactive tables.';\n",
              "          element.innerHTML = '';\n",
              "          dataTable['output_type'] = 'display_data';\n",
              "          await google.colab.output.renderOutput(dataTable, element);\n",
              "          const docLink = document.createElement('div');\n",
              "          docLink.innerHTML = docLinkHtml;\n",
              "          element.appendChild(docLink);\n",
              "        }\n",
              "      </script>\n",
              "    </div>\n",
              "  </div>\n",
              "  "
            ]
          },
          "metadata": {},
          "execution_count": 4
        }
      ]
    },
    {
      "cell_type": "code",
      "source": [
        "df1 = df.reset_index()['close']"
      ],
      "metadata": {
        "id": "1D9eIkcJE9vl"
      },
      "execution_count": null,
      "outputs": []
    },
    {
      "cell_type": "code",
      "source": [
        "df1.shape"
      ],
      "metadata": {
        "colab": {
          "base_uri": "https://localhost:8080/"
        },
        "id": "2Ro1ZPK5FrQQ",
        "outputId": "108679b4-82a3-4717-8b67-a83ad741cb6c"
      },
      "execution_count": null,
      "outputs": [
        {
          "output_type": "execute_result",
          "data": {
            "text/plain": [
              "(1258,)"
            ]
          },
          "metadata": {},
          "execution_count": 6
        }
      ]
    },
    {
      "cell_type": "code",
      "source": [
        "import matplotlib.pyplot as plt"
      ],
      "metadata": {
        "id": "8mAp4wLnFz89"
      },
      "execution_count": null,
      "outputs": []
    },
    {
      "cell_type": "code",
      "source": [
        "plt.plot(df1)"
      ],
      "metadata": {
        "colab": {
          "base_uri": "https://localhost:8080/",
          "height": 283
        },
        "id": "5CIxtLtlF4Ag",
        "outputId": "03a667cf-e9c9-4c81-ec33-1b24d4ba9cc7"
      },
      "execution_count": null,
      "outputs": [
        {
          "output_type": "execute_result",
          "data": {
            "text/plain": [
              "[<matplotlib.lines.Line2D at 0x7f065e1a3fd0>]"
            ]
          },
          "metadata": {},
          "execution_count": 8
        },
        {
          "output_type": "display_data",
          "data": {
            "text/plain": [
              "<Figure size 432x288 with 1 Axes>"
            ],
            "image/png": "[encoded data removed]"
          },
          "metadata": {
            "needs_background": "light"
          }
        }
      ]
    },
    {
      "cell_type": "code",
      "source": [
        "# scaling the data as LSTM is scale sensitive. so we are applying min_max_scaler\n",
        "from sklearn.preprocessing import MinMaxScaler\n",
        "import numpy as np\n",
        "scaler = MinMaxScaler(feature_range=(0,1))\n",
        "df1 = scaler.fit_transform(np.array(df1).reshape(-1,1))"
      ],
      "metadata": {
        "id": "3HGj7NkiGD9i"
      },
      "execution_count": null,
      "outputs": []
    },
    {
      "cell_type": "code",
      "source": [
        "df1"
      ],
      "metadata": {
        "colab": {
          "base_uri": "https://localhost:8080/"
        },
        "id": "kBmQOfChHJKi",
        "outputId": "0f910cef-fc42-4046-994a-6e615b1c0c47"
      },
      "execution_count": null,
      "outputs": [
        {
          "output_type": "execute_result",
          "data": {
            "text/plain": [
              "array([[0.17607447],\n",
              "       [0.17495567],\n",
              "       [0.16862282],\n",
              "       ...,\n",
              "       [0.96635143],\n",
              "       [0.9563033 ],\n",
              "       [0.96491598]])"
            ]
          },
          "metadata": {},
          "execution_count": 10
        }
      ]
    },
    {
      "cell_type": "code",
      "source": [
        "df1.shape"
      ],
      "metadata": {
        "colab": {
          "base_uri": "https://localhost:8080/"
        },
        "id": "b2uqxqUwHOMQ",
        "outputId": "bb628522-d278-4e9b-e792-5b8b81604697"
      },
      "execution_count": null,
      "outputs": [
        {
          "output_type": "execute_result",
          "data": {
            "text/plain": [
              "(1258, 1)"
            ]
          },
          "metadata": {},
          "execution_count": 11
        }
      ]
    },
    {
      "cell_type": "code",
      "source": [
        "# splitting the Dataset (train_test_split)\n",
        "training_size = int(len(df1)*0.65)\n",
        "test_size = len(df1) - training_size\n",
        "train_data,test_data = df1[0:training_size],df1[training_size:-1]"
      ],
      "metadata": {
        "id": "Ly9pRlBfHR0l"
      },
      "execution_count": null,
      "outputs": []
    },
    {
      "cell_type": "code",
      "source": [
        "training_size,test_size"
      ],
      "metadata": {
        "colab": {
          "base_uri": "https://localhost:8080/"
        },
        "id": "ktT0lm_YIix3",
        "outputId": "4330374d-b845-4d64-bf35-6884fc9732af"
      },
      "execution_count": null,
      "outputs": [
        {
          "output_type": "execute_result",
          "data": {
            "text/plain": [
              "(817, 441)"
            ]
          },
          "metadata": {},
          "execution_count": 13
        }
      ]
    },
    {
      "cell_type": "code",
      "source": [
        "# creating an array of values into a dataset variable\n",
        "import numpy as np\n",
        "def creating_dataset(dataset,time_step=1):\n",
        "  data_x,data_y = [],[]\n",
        "  for i in range(len(dataset)-time_step-1):\n",
        "    a = dataset[i:(i+time_step),0]\n",
        "    data_x.append(a)\n",
        "    data_y.append(dataset[i+time_step,0])\n",
        "  return np.array(data_x),np.array(data_y)\n"
      ],
      "metadata": {
        "id": "hklHXBpwJALs"
      },
      "execution_count": null,
      "outputs": []
    },
    {
      "cell_type": "code",
      "source": [
        "# reshaping into x =t, t+1,t+2,t+3\n",
        "time_step = 100\n",
        "X_train,y_train = creating_dataset(train_data,time_step)\n",
        "X_test,y_test = creating_dataset(test_data,time_step)"
      ],
      "metadata": {
        "id": "OypwZeZuMWq5"
      },
      "execution_count": null,
      "outputs": []
    },
    {
      "cell_type": "code",
      "source": [
        "print(X_train)"
      ],
      "metadata": {
        "colab": {
          "base_uri": "https://localhost:8080/"
        },
        "id": "5_6j87SojN5C",
        "outputId": "c30e492a-467b-4f7e-8222-3b3f1f18b3fb"
      },
      "execution_count": null,
      "outputs": [
        {
          "output_type": "stream",
          "name": "stdout",
          "text": [
            "[[0.17607447 0.17495567 0.16862282 ... 0.09055982 0.08388922 0.09085536]\n",
            " [0.17495567 0.16862282 0.1696994  ... 0.08388922 0.09085536 0.0873934 ]\n",
            " [0.16862282 0.1696994  0.16727181 ... 0.09085536 0.0873934  0.09030651]\n",
            " ...\n",
            " [0.34801148 0.32930845 0.32145571 ... 0.50042219 0.50413747 0.5062062 ]\n",
            " [0.32930845 0.32145571 0.32694419 ... 0.50413747 0.5062062  0.51920966]\n",
            " [0.32145571 0.32694419 0.32230009 ... 0.5062062  0.51920966 0.53719497]]\n"
          ]
        }
      ]
    },
    {
      "cell_type": "code",
      "source": [
        "print(X_train.shape), print(y_test.shape)"
      ],
      "metadata": {
        "colab": {
          "base_uri": "https://localhost:8080/"
        },
        "id": "TKnaHbX5jpXL",
        "outputId": "584a873f-5ffa-48a0-868d-63407fd78ab6"
      },
      "execution_count": null,
      "outputs": [
        {
          "output_type": "stream",
          "name": "stdout",
          "text": [
            "(716, 100)\n",
            "(339,)\n"
          ]
        },
        {
          "output_type": "execute_result",
          "data": {
            "text/plain": [
              "(None, None)"
            ]
          },
          "metadata": {},
          "execution_count": 17
        }
      ]
    },
    {
      "cell_type": "code",
      "source": [
        "# reshape input to be[sample,time steps, features] which is required for LSTM \n",
        "X_train = X_train.reshape(X_train.shape[0],X_train.shape[1],1)\n",
        "X_test = X_test.reshape(X_test.shape[0], X_test.shape[1],1)"
      ],
      "metadata": {
        "id": "WsCyw1iUm7Ku"
      },
      "execution_count": null,
      "outputs": []
    },
    {
      "cell_type": "code",
      "source": [
        "#  creating the LSTM model\n",
        "from tensorflow.keras.models import Sequential\n",
        "from tensorflow.keras.layers import Dense, LSTM"
      ],
      "metadata": {
        "id": "etEMwdSvwwqQ"
      },
      "execution_count": null,
      "outputs": []
    },
    {
      "cell_type": "code",
      "source": [
        "model = Sequential()\n",
        "model.add(LSTM(50,return_sequences =True,input_shape = (100,1)))\n",
        "model.add(LSTM(50,return_sequences =True))\n",
        "model.add(LSTM(50))\n",
        "model.add(Dense(1))\n",
        "model.compile(loss='mean_squared_error', optimizer = 'adam')"
      ],
      "metadata": {
        "id": "2hBwLWOoxrBJ"
      },
      "execution_count": null,
      "outputs": []
    },
    {
      "cell_type": "code",
      "source": [
        "model.summary()"
      ],
      "metadata": {
        "colab": {
          "base_uri": "https://localhost:8080/"
        },
        "id": "Cx3x6AIp0_G4",
        "outputId": "ff52b55c-18ed-4955-b1b5-e5e062e21b44"
      },
      "execution_count": null,
      "outputs": [
        {
          "output_type": "stream",
          "name": "stdout",
          "text": [
            "Model: \"sequential\"\n",
            "_________________________________________________________________\n",
            " Layer (type)                Output Shape              Param #   \n",
            "=================================================================\n",
            " lstm (LSTM)                 (None, 100, 50)           10400     \n",
            "                                                                 \n",
            " lstm_1 (LSTM)               (None, 100, 50)           20200     \n",
            "                                                                 \n",
            " lstm_2 (LSTM)               (None, 50)                20200     \n",
            "                                                                 \n",
            " dense (Dense)               (None, 1)                 51        \n",
            "                                                                 \n",
            "=================================================================\n",
            "Total params: 50,851\n",
            "Trainable params: 50,851\n",
            "Non-trainable params: 0\n",
            "_________________________________________________________________\n"
          ]
        }
      ]
    },
    {
      "cell_type": "code",
      "source": [
        "model.fit(X_train,y_train,validation_data=(X_test,y_test),epochs=100,batch_size = 64)"
      ],
      "metadata": {
        "colab": {
          "base_uri": "https://localhost:8080/"
        },
        "id": "RZwGsiaf1JcZ",
        "outputId": "c40e0f7a-42e7-4389-a9e2-dff8890cf932"
      },
      "execution_count": null,
      "outputs": [
        {
          "output_type": "stream",
          "name": "stdout",
          "text": [
            "Epoch 1/100\n",
            "12/12 [==============================] - 18s 715ms/step - loss: 0.0218 - val_loss: 0.0386\n",
            "Epoch 2/100\n",
            "12/12 [==============================] - 5s 437ms/step - loss: 0.0032 - val_loss: 0.0056\n",
            "Epoch 3/100\n",
            "12/12 [==============================] - 3s 256ms/step - loss: 0.0012 - val_loss: 0.0055\n",
            "Epoch 4/100\n",
            "12/12 [==============================] - 3s 214ms/step - loss: 8.4667e-04 - val_loss: 0.0041\n",
            "Epoch 5/100\n",
            "12/12 [==============================] - 3s 216ms/step - loss: 6.5022e-04 - val_loss: 0.0052\n",
            "Epoch 6/100\n",
            "12/12 [==============================] - 3s 220ms/step - loss: 6.5509e-04 - val_loss: 0.0036\n",
            "Epoch 7/100\n",
            "12/12 [==============================] - 3s 213ms/step - loss: 5.9877e-04 - val_loss: 0.0035\n",
            "Epoch 8/100\n",
            "12/12 [==============================] - 3s 214ms/step - loss: 5.9323e-04 - val_loss: 0.0035\n",
            "Epoch 9/100\n",
            "12/12 [==============================] - 3s 217ms/step - loss: 6.2219e-04 - val_loss: 0.0035\n",
            "Epoch 10/100\n",
            "12/12 [==============================] - 3s 216ms/step - loss: 6.0259e-04 - val_loss: 0.0034\n",
            "Epoch 11/100\n",
            "12/12 [==============================] - 3s 218ms/step - loss: 5.8120e-04 - val_loss: 0.0037\n",
            "Epoch 12/100\n",
            "12/12 [==============================] - 3s 215ms/step - loss: 5.8907e-04 - val_loss: 0.0033\n",
            "Epoch 13/100\n",
            "12/12 [==============================] - 3s 214ms/step - loss: 5.5148e-04 - val_loss: 0.0032\n",
            "Epoch 14/100\n",
            "12/12 [==============================] - 3s 213ms/step - loss: 5.4026e-04 - val_loss: 0.0036\n",
            "Epoch 15/100\n",
            "12/12 [==============================] - 3s 211ms/step - loss: 5.2194e-04 - val_loss: 0.0030\n",
            "Epoch 16/100\n",
            "12/12 [==============================] - 3s 214ms/step - loss: 5.2582e-04 - val_loss: 0.0029\n",
            "Epoch 17/100\n",
            "12/12 [==============================] - 3s 219ms/step - loss: 5.0046e-04 - val_loss: 0.0028\n",
            "Epoch 18/100\n",
            "12/12 [==============================] - 3s 214ms/step - loss: 5.2021e-04 - val_loss: 0.0029\n",
            "Epoch 19/100\n",
            "12/12 [==============================] - 3s 213ms/step - loss: 5.0309e-04 - val_loss: 0.0027\n",
            "Epoch 20/100\n",
            "12/12 [==============================] - 3s 214ms/step - loss: 4.8118e-04 - val_loss: 0.0026\n",
            "Epoch 21/100\n",
            "12/12 [==============================] - 3s 218ms/step - loss: 4.7288e-04 - val_loss: 0.0025\n",
            "Epoch 22/100\n",
            "12/12 [==============================] - 3s 223ms/step - loss: 4.7365e-04 - val_loss: 0.0024\n",
            "Epoch 23/100\n",
            "12/12 [==============================] - 3s 218ms/step - loss: 4.4778e-04 - val_loss: 0.0023\n",
            "Epoch 24/100\n",
            "12/12 [==============================] - 3s 221ms/step - loss: 5.2465e-04 - val_loss: 0.0023\n",
            "Epoch 25/100\n",
            "12/12 [==============================] - 3s 214ms/step - loss: 4.5725e-04 - val_loss: 0.0022\n",
            "Epoch 26/100\n",
            "12/12 [==============================] - 3s 211ms/step - loss: 4.2812e-04 - val_loss: 0.0021\n",
            "Epoch 27/100\n",
            "12/12 [==============================] - 3s 211ms/step - loss: 4.2593e-04 - val_loss: 0.0021\n",
            "Epoch 28/100\n",
            "12/12 [==============================] - 3s 210ms/step - loss: 4.4099e-04 - val_loss: 0.0021\n",
            "Epoch 29/100\n",
            "12/12 [==============================] - 3s 220ms/step - loss: 4.3445e-04 - val_loss: 0.0021\n",
            "Epoch 30/100\n",
            "12/12 [==============================] - 3s 213ms/step - loss: 4.3958e-04 - val_loss: 0.0022\n",
            "Epoch 31/100\n",
            "12/12 [==============================] - 3s 215ms/step - loss: 4.5415e-04 - val_loss: 0.0019\n",
            "Epoch 32/100\n",
            "12/12 [==============================] - 3s 221ms/step - loss: 3.9562e-04 - val_loss: 0.0020\n",
            "Epoch 33/100\n",
            "12/12 [==============================] - 3s 220ms/step - loss: 3.9003e-04 - val_loss: 0.0018\n",
            "Epoch 34/100\n",
            "12/12 [==============================] - 3s 225ms/step - loss: 3.7946e-04 - val_loss: 0.0017\n",
            "Epoch 35/100\n",
            "12/12 [==============================] - 3s 218ms/step - loss: 3.8166e-04 - val_loss: 0.0021\n",
            "Epoch 36/100\n",
            "12/12 [==============================] - 3s 218ms/step - loss: 4.0874e-04 - val_loss: 0.0019\n",
            "Epoch 37/100\n",
            "12/12 [==============================] - 3s 256ms/step - loss: 3.6900e-04 - val_loss: 0.0020\n",
            "Epoch 38/100\n",
            "12/12 [==============================] - 3s 276ms/step - loss: 3.5698e-04 - val_loss: 0.0015\n",
            "Epoch 39/100\n",
            "12/12 [==============================] - 3s 221ms/step - loss: 3.7435e-04 - val_loss: 0.0027\n",
            "Epoch 40/100\n",
            "12/12 [==============================] - 3s 220ms/step - loss: 3.8554e-04 - val_loss: 0.0015\n",
            "Epoch 41/100\n",
            "12/12 [==============================] - 3s 215ms/step - loss: 3.4746e-04 - val_loss: 0.0019\n",
            "Epoch 42/100\n",
            "12/12 [==============================] - 3s 219ms/step - loss: 3.5851e-04 - val_loss: 0.0016\n",
            "Epoch 43/100\n",
            "12/12 [==============================] - 3s 217ms/step - loss: 3.4751e-04 - val_loss: 0.0015\n",
            "Epoch 44/100\n",
            "12/12 [==============================] - 3s 224ms/step - loss: 3.8462e-04 - val_loss: 0.0024\n",
            "Epoch 45/100\n",
            "12/12 [==============================] - 3s 222ms/step - loss: 3.1950e-04 - val_loss: 0.0017\n",
            "Epoch 46/100\n",
            "12/12 [==============================] - 3s 222ms/step - loss: 3.2062e-04 - val_loss: 0.0018\n",
            "Epoch 47/100\n",
            "12/12 [==============================] - 3s 214ms/step - loss: 3.1274e-04 - val_loss: 0.0014\n",
            "Epoch 48/100\n",
            "12/12 [==============================] - 3s 220ms/step - loss: 3.1835e-04 - val_loss: 0.0018\n",
            "Epoch 49/100\n",
            "12/12 [==============================] - 3s 220ms/step - loss: 3.1152e-04 - val_loss: 0.0014\n",
            "Epoch 50/100\n",
            "12/12 [==============================] - 3s 219ms/step - loss: 3.8165e-04 - val_loss: 0.0030\n",
            "Epoch 51/100\n",
            "12/12 [==============================] - 3s 217ms/step - loss: 3.7917e-04 - val_loss: 0.0021\n",
            "Epoch 52/100\n",
            "12/12 [==============================] - 3s 217ms/step - loss: 4.7301e-04 - val_loss: 0.0025\n",
            "Epoch 53/100\n",
            "12/12 [==============================] - 3s 216ms/step - loss: 3.3028e-04 - val_loss: 0.0022\n",
            "Epoch 54/100\n",
            "12/12 [==============================] - 3s 225ms/step - loss: 2.9431e-04 - val_loss: 0.0015\n",
            "Epoch 55/100\n",
            "12/12 [==============================] - 3s 218ms/step - loss: 2.8307e-04 - val_loss: 0.0016\n",
            "Epoch 56/100\n",
            "12/12 [==============================] - 3s 219ms/step - loss: 2.7732e-04 - val_loss: 0.0017\n",
            "Epoch 57/100\n",
            "12/12 [==============================] - 3s 217ms/step - loss: 2.7842e-04 - val_loss: 0.0018\n",
            "Epoch 58/100\n",
            "12/12 [==============================] - 3s 217ms/step - loss: 2.8038e-04 - val_loss: 0.0016\n",
            "Epoch 59/100\n",
            "12/12 [==============================] - 3s 218ms/step - loss: 2.6578e-04 - val_loss: 0.0014\n",
            "Epoch 60/100\n",
            "12/12 [==============================] - 3s 221ms/step - loss: 2.8273e-04 - val_loss: 0.0024\n",
            "Epoch 61/100\n",
            "12/12 [==============================] - 3s 213ms/step - loss: 2.7527e-04 - val_loss: 0.0014\n",
            "Epoch 62/100\n",
            "12/12 [==============================] - 3s 217ms/step - loss: 2.7084e-04 - val_loss: 0.0016\n",
            "Epoch 63/100\n",
            "12/12 [==============================] - 3s 217ms/step - loss: 2.6388e-04 - val_loss: 0.0016\n",
            "Epoch 64/100\n",
            "12/12 [==============================] - 3s 232ms/step - loss: 2.4802e-04 - val_loss: 0.0014\n",
            "Epoch 65/100\n",
            "12/12 [==============================] - 4s 293ms/step - loss: 2.7237e-04 - val_loss: 0.0018\n",
            "Epoch 66/100\n",
            "12/12 [==============================] - 3s 223ms/step - loss: 2.5115e-04 - val_loss: 0.0013\n",
            "Epoch 67/100\n",
            "12/12 [==============================] - 3s 224ms/step - loss: 2.7115e-04 - val_loss: 0.0017\n",
            "Epoch 68/100\n",
            "12/12 [==============================] - 3s 220ms/step - loss: 2.8146e-04 - val_loss: 0.0014\n",
            "Epoch 69/100\n",
            "12/12 [==============================] - 3s 223ms/step - loss: 2.6179e-04 - val_loss: 0.0014\n",
            "Epoch 70/100\n",
            "12/12 [==============================] - 3s 219ms/step - loss: 2.6457e-04 - val_loss: 0.0017\n",
            "Epoch 71/100\n",
            "12/12 [==============================] - 3s 219ms/step - loss: 2.6726e-04 - val_loss: 0.0013\n",
            "Epoch 72/100\n",
            "12/12 [==============================] - 3s 212ms/step - loss: 2.3509e-04 - val_loss: 0.0018\n",
            "Epoch 73/100\n",
            "12/12 [==============================] - 3s 218ms/step - loss: 2.4590e-04 - val_loss: 0.0013\n",
            "Epoch 74/100\n",
            "12/12 [==============================] - 3s 217ms/step - loss: 2.3825e-04 - val_loss: 0.0017\n",
            "Epoch 75/100\n",
            "12/12 [==============================] - 3s 216ms/step - loss: 2.2788e-04 - val_loss: 0.0012\n",
            "Epoch 76/100\n",
            "12/12 [==============================] - 3s 216ms/step - loss: 2.2039e-04 - val_loss: 0.0014\n",
            "Epoch 77/100\n",
            "12/12 [==============================] - 3s 215ms/step - loss: 2.1761e-04 - val_loss: 0.0012\n",
            "Epoch 78/100\n",
            "12/12 [==============================] - 3s 219ms/step - loss: 2.2163e-04 - val_loss: 0.0016\n",
            "Epoch 79/100\n",
            "12/12 [==============================] - 3s 216ms/step - loss: 2.1912e-04 - val_loss: 0.0012\n",
            "Epoch 80/100\n",
            "12/12 [==============================] - 3s 217ms/step - loss: 2.2942e-04 - val_loss: 0.0013\n",
            "Epoch 81/100\n",
            "12/12 [==============================] - 3s 227ms/step - loss: 2.2769e-04 - val_loss: 0.0012\n",
            "Epoch 82/100\n",
            "12/12 [==============================] - 3s 217ms/step - loss: 2.0579e-04 - val_loss: 0.0012\n",
            "Epoch 83/100\n",
            "12/12 [==============================] - 3s 218ms/step - loss: 2.0857e-04 - val_loss: 0.0018\n",
            "Epoch 84/100\n",
            "12/12 [==============================] - 3s 215ms/step - loss: 2.1634e-04 - val_loss: 0.0012\n",
            "Epoch 85/100\n",
            "12/12 [==============================] - 3s 217ms/step - loss: 1.9782e-04 - val_loss: 0.0011\n",
            "Epoch 86/100\n",
            "12/12 [==============================] - 3s 225ms/step - loss: 1.8819e-04 - val_loss: 0.0011\n",
            "Epoch 87/100\n",
            "12/12 [==============================] - 3s 217ms/step - loss: 1.8028e-04 - val_loss: 0.0011\n",
            "Epoch 88/100\n",
            "12/12 [==============================] - 3s 214ms/step - loss: 1.9377e-04 - val_loss: 0.0013\n",
            "Epoch 89/100\n",
            "12/12 [==============================] - 3s 222ms/step - loss: 1.9205e-04 - val_loss: 0.0015\n",
            "Epoch 90/100\n",
            "12/12 [==============================] - 3s 227ms/step - loss: 1.9133e-04 - val_loss: 0.0011\n",
            "Epoch 91/100\n",
            "12/12 [==============================] - 3s 222ms/step - loss: 1.8595e-04 - val_loss: 0.0011\n",
            "Epoch 92/100\n",
            "12/12 [==============================] - 3s 225ms/step - loss: 1.9481e-04 - val_loss: 0.0013\n",
            "Epoch 93/100\n",
            "12/12 [==============================] - 3s 212ms/step - loss: 1.9600e-04 - val_loss: 0.0011\n",
            "Epoch 94/100\n",
            "12/12 [==============================] - 3s 217ms/step - loss: 1.9098e-04 - val_loss: 0.0017\n",
            "Epoch 95/100\n",
            "12/12 [==============================] - 3s 215ms/step - loss: 2.1379e-04 - val_loss: 0.0014\n",
            "Epoch 96/100\n",
            "12/12 [==============================] - 3s 217ms/step - loss: 1.8828e-04 - val_loss: 0.0011\n",
            "Epoch 97/100\n",
            "12/12 [==============================] - 3s 223ms/step - loss: 1.7971e-04 - val_loss: 0.0012\n",
            "Epoch 98/100\n",
            "12/12 [==============================] - 3s 216ms/step - loss: 1.7937e-04 - val_loss: 0.0012\n",
            "Epoch 99/100\n",
            "12/12 [==============================] - 3s 215ms/step - loss: 1.6766e-04 - val_loss: 0.0011\n",
            "Epoch 100/100\n",
            "12/12 [==============================] - 3s 217ms/step - loss: 1.6336e-04 - val_loss: 0.0014\n"
          ]
        },
        {
          "output_type": "execute_result",
          "data": {
            "text/plain": [
              "<keras.callbacks.History at 0x7f05edbfe250>"
            ]
          },
          "metadata": {},
          "execution_count": 22
        }
      ]
    },
    {
      "cell_type": "code",
      "source": [
        "#  Prediction and check the performance\n",
        "train_predict = model.predict(X_train)\n",
        "test_predict = model.predict(X_test)"
      ],
      "metadata": {
        "id": "oXWA3Vdr1eZ2"
      },
      "execution_count": null,
      "outputs": []
    },
    {
      "cell_type": "code",
      "source": [
        "#  Transform to its original form \n",
        "train_predict = scaler.inverse_transform(train_predict)\n",
        "test_predict = scaler.inverse_transform(test_predict)\n"
      ],
      "metadata": {
        "id": "1JeU1epCGh2m"
      },
      "execution_count": null,
      "outputs": []
    },
    {
      "cell_type": "code",
      "source": [
        "# calculate the RMSE performance metrics\n",
        "import math\n",
        "from sklearn.metrics import mean_squared_error\n",
        "math.sqrt(mean_squared_error(y_train,train_predict))"
      ],
      "metadata": {
        "colab": {
          "base_uri": "https://localhost:8080/"
        },
        "id": "NwzgHImRG6yf",
        "outputId": "ec6f5c51-cdb8-4d1e-adfb-bcfb062ba9ad"
      },
      "execution_count": null,
      "outputs": [
        {
          "output_type": "execute_result",
          "data": {
            "text/plain": [
              "143.3916891766709"
            ]
          },
          "metadata": {},
          "execution_count": 25
        }
      ]
    },
    {
      "cell_type": "code",
      "source": [
        "# Test DATA RMSE\n",
        "math.sqrt(mean_squared_error(y_test,test_predict))"
      ],
      "metadata": {
        "colab": {
          "base_uri": "https://localhost:8080/"
        },
        "id": "XOwI2-zXHMx_",
        "outputId": "5e36b761-3c23-445d-b496-e386f8e39d71"
      },
      "execution_count": null,
      "outputs": [
        {
          "output_type": "execute_result",
          "data": {
            "text/plain": [
              "242.37775434531108"
            ]
          },
          "metadata": {},
          "execution_count": 26
        }
      ]
    },
    {
      "cell_type": "code",
      "source": [
        "# Ploting \n",
        "# shift train predictions for plotting \n",
        "look_back = 100\n",
        "train_predict_plot = np.empty_like(df1)\n",
        "train_predict_plot[:, :] = np.nan\n",
        "train_predict_plot[look_back:len(train_predict)+look_back, :] = train_predict\n",
        "\n",
        "# shift test prediction for plotting \n",
        "test_predict_plot = np.empty_like(df1)\n",
        "test_predict_plot[:, :, ] = np.nan\n",
        "test_predict_plot[len(train_predict)+(look_back*2)+2:len(df1)-1, :] = test_predict\n",
        "\n",
        "# plot baseline and predictions\n",
        "plt.plot(scaler.inverse_transform(df1))\n",
        "plt.plot(train_predict_plot)\n",
        "plt.plot(train_predict_plot)"
      ],
      "metadata": {
        "colab": {
          "base_uri": "https://localhost:8080/",
          "height": 283
        },
        "id": "oXIk4ZhqHZCB",
        "outputId": "0e7b86b9-2503-4e78-fa03-bbeebfd7441e"
      },
      "execution_count": null,
      "outputs": [
        {
          "output_type": "execute_result",
          "data": {
            "text/plain": [
              "[<matplotlib.lines.Line2D at 0x7f05e7960350>]"
            ]
          },
          "metadata": {},
          "execution_count": 31
        },
        {
          "output_type": "display_data",
          "data": {
            "text/plain": [
              "<Figure size 432x288 with 1 Axes>"
            ],
            "image/png": "[encoded data removed]"
          },
          "metadata": {
            "needs_background": "light"
          }
        }
      ]
    },
    {
      "cell_type": "code",
      "source": [],
      "metadata": {
        "id": "w0XNAQhXIxlK"
      },
      "execution_count": null,
      "outputs": []
    }
  ]
}